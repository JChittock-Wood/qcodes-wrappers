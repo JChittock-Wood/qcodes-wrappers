{
 "cells": [
  {
   "cell_type": "markdown",
   "metadata": {},
   "source": [
    "This file is where I got up to with the `VideoMode` before I had to leave.\n",
    "\n",
    "It's broken down into X parts:\n",
    "\n",
    "Load in the hardware file (from Stephan @ QuTech), this is also on my github.\n",
    "\n",
    "Setup the awg_map, this is similar to the gate_map discussed in `qtt_examples` when setting up the `VirtualDAC`. It's necessary to setup at least two channels for `VideoMode` as well as a marker channel (otherwise the 2D_scan function will not work).\n",
    "\n",
    "Define the station that will be used in the `VideoMode`\n",
    "This includes connecting to the relevant instruments, in this case the awg and fpga.\n",
    "It's important that the instrument names are left as they are as the `VideoMode` class refers to these specific names in its operation, i.e. `fpga` and `virtual_awg` or `awg` you may want to check which one!\n",
    "\n",
    "The awg and fpga are initialized with specific classes `virtual_awg` which is setup to work with the Tektronix_5014, and the `FPGA_ave` which is not setup to work with the Alazar_ATS_9360, but I have attempted to write a wrapper for that (which could be greatly improved upon!).\n",
    "\n",
    "Once the instruments are loaded they need to be setup/armed for operation with `VideoMode`, the following steps are what I found to be some necessary steps. However these may not be completely correct!\n",
    "\n",
    "Ideally when the `FPGA_ave` is optimised for the Alazar there will be no error messages on setup, i.e.\n",
    "\n",
    "`WARNING:qcodes.instrument.base:Snapshot: Could not update parameter: ch1_cycle_num on fpga`\n",
    "\n",
    "Also setting the `int_delay` and `int_time` manually as seen below will be overstepped. I think the whole point of the `VideoMode` is that it determines your waveform parameters (i.e. the sample rate and voltage range) and then setups up the FPGA accordingly to produce a map that achieves the same thing. I have not done this here, the current wrapper only allows for the read out of whatever is predefined in this code. So if you change the awg sweep parameters, it will have no effect on the fpga's acquisition (but it's meant to in the end product!).\n",
    "\n",
    "When I last ran this code (28.09.2018) I received an error that the Kernel was dead, I am not sure if this is due to some incompatibility between qcodes and qtt or a bug in my wrapper. It seems to appear when trying to address the gui, perhaps my version of python was not appropriate!\n",
    "\n",
    "-- Jacob CW"
   ]
  },
  {
   "cell_type": "code",
   "execution_count": 1,
   "metadata": {},
   "outputs": [],
   "source": [
    "%matplotlib inline\n",
    "import sys, os, tempfile\n",
    "import numpy as np\n",
    "import matplotlib.pyplot as plt\n",
    "import qcodes\n",
    "import qtt\n",
    "import logging"
   ]
  },
  {
   "cell_type": "code",
   "execution_count": 2,
   "metadata": {},
   "outputs": [],
   "source": [
    "from qcodes.instrument_drivers.tektronix.AWG5014 import Tektronix_AWG5014  # <--- The instrument driver\n",
    "from qcodes.instrument_drivers.tektronix.AWGFileParser import parse_awg_file  # <--- A helper function\n",
    "from qcodes import MatPlot, QtPlot\n",
    "from qtt.instrument_drivers.virtual_awg import virtual_awg\n",
    "from qtt.instrument_drivers.FPGA_ave import FPGA_ave\n",
    "from qtt.measurements.videomode import VideoMode\n",
    "from qtt.gui.live_plotting import livePlot\n",
    "# download this file to directory\n",
    "from hardware import hardware\n",
    "\n",
    "# set data directory\n",
    "datadir = os.path.join(tempfile.mkdtemp(), 'qdata')\n",
    "qcodes.DataSet.default_io = qcodes.DiskIO(datadir)\n",
    "\n",
    "logger = logging.getLogger()\n",
    "logger.setLevel(logging.WARNING)"
   ]
  },
  {
   "cell_type": "code",
   "execution_count": 3,
   "metadata": {},
   "outputs": [],
   "source": [
    "hardware = hardware('test')\n",
    "\n",
    "# coaxes to gates: (awg,channel)    \n",
    "awg_map = {'P1': (0,1), 'P2': (0,2), 'P3': (0,3), 'P4': (0,4),\n",
    "            # markers to instruments: (awg,channel,marker)\n",
    "            'm4i_mk': (0, 4, 1),  'awg_to_m4i_mk': (0,4,1),\n",
    "            'awg_mk': (0, 4, 2)\n",
    "          }"
   ]
  },
  {
   "cell_type": "code",
   "execution_count": 4,
   "metadata": {},
   "outputs": [],
   "source": [
    "def initialize():\n",
    "\n",
    "    logging.info('my station: initialize')\n",
    "    \n",
    "    # Connect to Tektronix AWG\n",
    "    awg1 = Tektronix_AWG5014('awg1', 'TCPIP0::192.168.15.103::inst0::INSTR')\n",
    "    \n",
    "    # Create virtual awg\n",
    "    awg = virtual_awg(name='virtual_awg', instruments=[awg1], awg_map=awg_map, hardware=hardware)\n",
    "    \n",
    "    # Create the ATS9360 instrument\n",
    "    fpga = FPGA_ave(name='fpga', address='ASRL1::INSTR')\n",
    "    \n",
    "    logging.info('my station: all drivers have been loaded')\n",
    "\n",
    "    #Creating the experimental station\n",
    "    station = qcodes.Station(awg, fpga)\n",
    "\n",
    "    logging.info('my station: initialization done')   \n",
    "    return station"
   ]
  },
  {
   "cell_type": "code",
   "execution_count": 5,
   "metadata": {},
   "outputs": [
    {
     "name": "stdout",
     "output_type": "stream",
     "text": [
      "Connected to: TEKTRONIX AWG5014C (serial:B051367, firmware:SCPI:99.0 FW:4.6.0.7) in 0.08s\n",
      "FPGA internal clock is 50MHz, dividing it by 50, yields samp. freq. is 1000000 Hz\n"
     ]
    },
    {
     "name": "stderr",
     "output_type": "stream",
     "text": [
      "WARNING:qcodes.instrument.base:Snapshot: Could not update parameter: ch1_cycle_num on fpga\n",
      "WARNING:qcodes.instrument.base:Snapshot: Could not update parameter: ch2_cycle_num on fpga\n",
      "WARNING:qcodes.instrument.base:Snapshot: Could not update parameter: measurement_done on fpga\n",
      "WARNING:qcodes.instrument.base:Snapshot: Could not update parameter: ch1_datapoint_num on fpga\n",
      "WARNING:qcodes.instrument.base:Snapshot: Could not update parameter: ch2_datapoint_num on fpga\n",
      "WARNING:qcodes.instrument.base:Snapshot: Could not update parameter: data on fpga\n",
      "WARNING:qcodes.instrument.base:Snapshot: Could not update parameter: ch1_data on fpga\n",
      "WARNING:qcodes.instrument.base:Snapshot: Could not update parameter: ch2_data on fpga\n"
     ]
    }
   ],
   "source": [
    "station = initialize()\n",
    "\n",
    "fpga = station.fpga\n",
    "virtual_awg = station.virtual_awg"
   ]
  },
  {
   "cell_type": "code",
   "execution_count": 6,
   "metadata": {},
   "outputs": [],
   "source": [
    "hardware.parameters['awg_to_P1'].set(1)\n",
    "hardware.parameters['awg_to_P2'].set(1)\n",
    "hardware.parameters['awg_to_P3'].set(1)\n",
    "hardware.parameters['awg_to_P4'].set(1)"
   ]
  },
  {
   "cell_type": "code",
   "execution_count": null,
   "metadata": {},
   "outputs": [],
   "source": [
    "mwindows = qtt.gui.live_plotting.setupMeasurementWindows(station, create_parameter_widget=False)\n",
    "plotQ = mwindows['plotwindow']"
   ]
  },
  {
   "cell_type": "code",
   "execution_count": null,
   "metadata": {},
   "outputs": [],
   "source": [
    "fpga.alazar_setup()"
   ]
  },
  {
   "cell_type": "code",
   "execution_count": null,
   "metadata": {},
   "outputs": [],
   "source": [
    "fpga.setup_controller()"
   ]
  },
  {
   "cell_type": "code",
   "execution_count": null,
   "metadata": {},
   "outputs": [],
   "source": [
    "fpga.set_int_delay(2e-5)\n",
    "fpga.set_int_time(2e-6)"
   ]
  },
  {
   "cell_type": "code",
   "execution_count": null,
   "metadata": {},
   "outputs": [],
   "source": [
    "fpga.setup_channel(channel='A', num_averages=1)"
   ]
  },
  {
   "cell_type": "code",
   "execution_count": null,
   "metadata": {},
   "outputs": [],
   "source": [
    "sweepparams = ['P1', 'P2']\n",
    "sweepranges = [0.5, 1.5]\n",
    "\n",
    "vm = VideoMode(station, sweepparams=sweepparams, sweepranges=sweepranges, minstrument= [fpga, ['FPGA_ch1']], nplots = 1)"
   ]
  },
  {
   "cell_type": "code",
   "execution_count": null,
   "metadata": {},
   "outputs": [],
   "source": []
  }
 ],
 "metadata": {
  "kernelspec": {
   "display_name": "Python 3",
   "language": "python",
   "name": "python3"
  },
  "language_info": {
   "codemirror_mode": {
    "name": "ipython",
    "version": 3
   },
   "file_extension": ".py",
   "mimetype": "text/x-python",
   "name": "python",
   "nbconvert_exporter": "python",
   "pygments_lexer": "ipython3",
   "version": "3.6.6"
  }
 },
 "nbformat": 4,
 "nbformat_minor": 2
}
