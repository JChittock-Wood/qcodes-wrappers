{
 "cells": [
  {
   "cell_type": "markdown",
   "metadata": {},
   "source": [
    "There are some comments that explain what is going on here in my VideoMode file.\n",
    "\n",
    "When run with the additional hardware.py file, this program should make a Tektronix_5014 awg output a fast (ch1) and slow ramp (ch2) along with a sync on ch4 marker 1."
   ]
  },
  {
   "cell_type": "code",
   "execution_count": 1,
   "metadata": {},
   "outputs": [],
   "source": [
    "%matplotlib nbagg\n",
    "\n",
    "import os\n",
    "import time\n",
    "import logging\n",
    "\n",
    "import numpy as np\n",
    "import matplotlib.pyplot as plt\n",
    "\n",
    "import qcodes\n",
    "\n",
    "# download this file to directory\n",
    "from hardware import hardware"
   ]
  },
  {
   "cell_type": "code",
   "execution_count": 2,
   "metadata": {},
   "outputs": [],
   "source": [
    "from qcodes.instrument_drivers.tektronix.AWG5014 import Tektronix_AWG5014  # <--- The instrument driver\n",
    "from qcodes.instrument_drivers.tektronix.AWGFileParser import parse_awg_file  # <--- A helper function\n",
    "from qtt.instrument_drivers.virtual_awg import virtual_awg\n",
    "\n",
    "logger = logging.getLogger()\n",
    "logger.setLevel(logging.WARNING)"
   ]
  },
  {
   "cell_type": "code",
   "execution_count": 3,
   "metadata": {},
   "outputs": [],
   "source": [
    "# coaxes to gates: (awg,channel)    \n",
    "awg_map = {'P1': (0,1), 'P2': (0,2), 'P3': (0,3), 'P4': (0,4),\n",
    "            # markers to instruments: (awg,channel,marker)\n",
    "            'm4i_mk': (0, 4, 1),  'awg_to_m4i_mk': (0,4,1),\n",
    "            'awg_mk': (0, 4, 2)\n",
    "          }"
   ]
  },
  {
   "cell_type": "code",
   "execution_count": 4,
   "metadata": {},
   "outputs": [
    {
     "name": "stdout",
     "output_type": "stream",
     "text": [
      "Connected to: TEKTRONIX AWG5014C (serial:B051367, firmware:SCPI:99.0 FW:4.6.0.7) in 0.24s\n"
     ]
    }
   ],
   "source": [
    "awg1 = Tektronix_AWG5014('awg1', 'TCPIP0::192.168.15.103::inst0::INSTR')"
   ]
  },
  {
   "cell_type": "code",
   "execution_count": 5,
   "metadata": {},
   "outputs": [],
   "source": [
    "hardware = hardware('test')"
   ]
  },
  {
   "cell_type": "code",
   "execution_count": 6,
   "metadata": {},
   "outputs": [],
   "source": [
    "awg = virtual_awg(name='awg', instruments=[awg1], awg_map=awg_map, hardware=hardware)"
   ]
  },
  {
   "cell_type": "code",
   "execution_count": 7,
   "metadata": {},
   "outputs": [],
   "source": [
    "hardware.parameters['awg_to_P1'].set(1)\n",
    "hardware.parameters['awg_to_P2'].set(1)\n",
    "hardware.parameters['awg_to_P3'].set(1)\n",
    "hardware.parameters['awg_to_P4'].set(1)"
   ]
  },
  {
   "cell_type": "code",
   "execution_count": 8,
   "metadata": {},
   "outputs": [
    {
     "data": {
      "text/plain": [
       "({'P1': {'wave': array([-0.125     , -0.12236842, -0.11973684, ..., -0.025     ,\n",
       "          -0.075     , -0.125     ]), 'name': 'sweep_2D_horz_P1'},\n",
       "  'P2': {'wave': array([-0.375     , -0.37492105, -0.37484211, ..., -0.372     ,\n",
       "          -0.3735    , -0.375     ]), 'name': 'sweep_2D_vert_P2'},\n",
       "  'width_horz': 0.95,\n",
       "  'sweeprange_horz': 0.5,\n",
       "  'width_vert': 0.95,\n",
       "  'sweeprange_vert': 1.5,\n",
       "  'resolution': [100, 100],\n",
       "  'samplerate': 1e-08,\n",
       "  'period': 9.999999999999999e-05,\n",
       "  'period_horz': 1e-06,\n",
       "  'markerdelay': 2.16e-06},\n",
       " {(0,\n",
       "   1): {'waveform': array([-0.125     , -0.12236842, -0.11973684, ..., -0.025     ,\n",
       "          -0.075     , -0.125     ]), 'marker1': array([ 0.,  0.,  0., ...,  0.,  0.,  0.]), 'marker2': array([ 0.,  0.,  0., ...,  0.,  0.,  0.]), 'name': 'sweep_2D_horz_P1'},\n",
       "  (0,\n",
       "   2): {'waveform': array([-0.375     , -0.37492105, -0.37484211, ..., -0.372     ,\n",
       "          -0.3735    , -0.375     ]), 'marker1': array([ 0.,  0.,  0., ...,  0.,  0.,  0.]), 'marker2': array([ 0.,  0.,  0., ...,  0.,  0.,  0.]), 'name': 'sweep_2D_vert_P2'},\n",
       "  (0, 4): {'waveform': array([ 0.,  0.,  0., ...,  0.,  0.,  0.]),\n",
       "   'marker1': array([ 0.,  0.,  0., ...,  0.,  0.,  0.]),\n",
       "   'marker2': array([ 0.,  0.,  0., ...,  0.,  0.,  0.]),\n",
       "   'name': 'm4i_mk_P1_P2',\n",
       "   'delay': 2.16e-06}})"
      ]
     },
     "execution_count": 8,
     "metadata": {},
     "output_type": "execute_result"
    }
   ],
   "source": [
    "sweepranges = [0.5,1.5]\n",
    "\n",
    "awg.sweep_2D(samp_freq=100_000_000, sweepgates=['P1','P2'], sweepranges = sweepranges, resolution=[100,100])"
   ]
  },
  {
   "cell_type": "code",
   "execution_count": null,
   "metadata": {},
   "outputs": [],
   "source": []
  }
 ],
 "metadata": {
  "kernelspec": {
   "display_name": "Python 3",
   "language": "python",
   "name": "python3"
  },
  "language_info": {
   "codemirror_mode": {
    "name": "ipython",
    "version": 3
   },
   "file_extension": ".py",
   "mimetype": "text/x-python",
   "name": "python",
   "nbconvert_exporter": "python",
   "pygments_lexer": "ipython3",
   "version": "3.6.6"
  }
 },
 "nbformat": 4,
 "nbformat_minor": 2
}
