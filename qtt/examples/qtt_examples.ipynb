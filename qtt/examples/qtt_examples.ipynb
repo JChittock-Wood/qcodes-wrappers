{
 "cells": [
  {
   "cell_type": "markdown",
   "metadata": {},
   "source": [
    "Example Author: Jacob Chittock-Wood"
   ]
  },
  {
   "cell_type": "code",
   "execution_count": 1,
   "metadata": {},
   "outputs": [],
   "source": [
    "%matplotlib inline\n",
    "%gui qt"
   ]
  },
  {
   "cell_type": "code",
   "execution_count": 2,
   "metadata": {},
   "outputs": [],
   "source": [
    "import sys, os, tempfile\n",
    "import numpy as np\n",
    "import matplotlib.pyplot as plt\n",
    "from functools import partial\n",
    "import qcodes\n",
    "import qtt\n",
    "import logging"
   ]
  },
  {
   "cell_type": "code",
   "execution_count": 3,
   "metadata": {},
   "outputs": [],
   "source": [
    "#Import from qcodes libs\n",
    "from qcodes import MatPlot, QtPlot\n",
    "from qcodes.instrument_drivers.Keysight.KeysightAgilent_33XXX import WaveformGenerator_33XXX\n",
    "from qcodes.instrument_drivers.QDev.QDac import QDac\n",
    "from qcodes.instrument_drivers.tektronix.Keithley_2600_channels import Keithley_2600\n",
    "\n",
    "# Import from qtt libs\n",
    "from qtt.instrument_drivers.gates import VirtualDAC #This will not work unless you've replaced the gates.py file in your library\n",
    "from qtt.measurements.scans import scanjob_t\n",
    "#from qtt.instrument_drivers.virtual_instruments import VirtualMeter\n",
    "#from qtt.simulation.virtual_dot_array import DotModel\n",
    "\n",
    "from qtt.instrument_drivers.FPGA_ave import FPGA_ave\n",
    "from qtt.measurements.videomode import VideoMode\n",
    "\n",
    "# set data directory\n",
    "datadir = os.path.join(tempfile.mkdtemp(), 'qdata')\n",
    "qcodes.DataSet.default_io = qcodes.DiskIO(datadir)"
   ]
  },
  {
   "cell_type": "markdown",
   "metadata": {},
   "source": [
    "## Example 1: QDAC"
   ]
  },
  {
   "cell_type": "markdown",
   "metadata": {},
   "source": [
    "To use the majority of `qtt` functions you need to define a `qcodes.station` using a function such as `initialize()` below. Some more context is given at: https://github.com/QuTech-Delft/qtt/blob/d90c236af7c05621a7214f5489e39c839c37e2ec/docs/notebooks/measurements/example_station.ipynb )\n",
    "\n",
    "An important part of this is the defining of `gates`. If you wanted to setup these gates to be used by a DAC, an easy way to go about doing this is by first defining a `gate_map`: \n",
    "\n",
    "`gate_map (dict): the map between the names gates and the physical instrument channels`\n",
    "\n",
    "The format of the `gate_map` to map the gate 'P1' to dac4 of the first instrument and 'B0' to dac3 of the second instrument is:\n",
    "\n",
    "`{'P1': (0, 4), 'B0': (1, 3)}`\n",
    "\n",
    "In this sense `dac4` and `dac3` refer to channel 4 on DAC0 & channel 3 on DAC1."
   ]
  },
  {
   "cell_type": "code",
   "execution_count": 4,
   "metadata": {},
   "outputs": [],
   "source": [
    "# the gate_map defines the relation between names gates and the DAC channels of physical instruments\n",
    "# in the VirtualDAC function (n,m), m is used as the channel number and n is the DAC number\n",
    "gate_map = {'S0': (0,1), 'P1': (0,2), 'P3': (0,3)}"
   ]
  },
  {
   "cell_type": "markdown",
   "metadata": {},
   "source": [
    "To use this with your specific DAC you will need to modify your `qtt.instrument_drivers.gates.py` file in your python directory (for example for me it's: `C:\\Users\\Nanouser\\miniconda\\envs\\qcodes\\Lib\\site-packages\\qtt\\instrument_drivers`)\n",
    "\n",
    "Until it is updated in `qtt` I would suggest replacing the current `gates.py` with: https://github.com/QuTech-Delft/qtt/blob/a2e58ed0942801e6883886a77fc7dbc86329f859/qtt/instrument_drivers/gates.py\n",
    "\n",
    "The `VirtualDAC` class in this file can be used to setup a DAC. The code that needs to be changed in order for it to work with your specific DAC is where it attempts to use a command on the DAC, such as set the voltage (`qtt` obviously doesn't know the function that changes the voltage on your specific DAC!).\n",
    "\n",
    "In this case changing `gates.py` to work with a QDAC is relatively simple, in line 76: we change: \n",
    "\n",
    "`igate = dac%d % gatemap[1]` to `igate = 'ch0%d_v' % gatemap[1]`\n",
    "\n",
    "Why? Because in the following line: `self._direct_gate_map[gate] = getattr(i, igate)`\n",
    "\n",
    "This translates to `DAC.dac1` for an instrument input as `DAC`, however if your instrument is the QDAC, there is no parameter `dac1` so we need to change this to a parameter that does exist, i.e. `ch01_v`.\n",
    "\n",
    "You should check for further uses of `dac%d` and change them accordingly.\n",
    "\n",
    "Once this is done the QDAC can be setup and used with `qtt` functions. See below:"
   ]
  },
  {
   "cell_type": "code",
   "execution_count": 5,
   "metadata": {},
   "outputs": [],
   "source": [
    "def initializeQDAC():\n",
    "\n",
    "    logging.info('my station: initialize')\n",
    "\n",
    "    # Connect to QDAC\n",
    "    qdac = QDac('qdac', 'ASRL6::INSTR', update_currents=False)\n",
    "\n",
    "    # Connect to Keithley\n",
    "    keithley = Keithley_2600(name='keithley', address='TCPIP0::192.168.15.101::inst0::INSTR')\n",
    "    \n",
    "    # Setup dummy keithley\n",
    "#    keithley = VirtualMeter('keithley', model=None)\n",
    "#    keithley.add_parameter('keithley_amplitude',\n",
    "#                           label='Amplitude (pA)'.format('keithley_amplitude'),\n",
    "#                           get_cmd=partial(getattr(keithley, '_get'), 'amplitude'),\n",
    "#                          )\n",
    "    \n",
    "    logging.info('my station: all drivers have been loaded')\n",
    "\n",
    "    # Create gates\n",
    "    gates = VirtualDAC(name='gates', gate_map=gate_map, instruments=[qdac])\n",
    "\n",
    "    #Creating the experimental station\n",
    "    station = qcodes.Station(gates, qdac, keithley)\n",
    "\n",
    "    logging.info('my station: initialization done')   \n",
    "    return station"
   ]
  },
  {
   "cell_type": "code",
   "execution_count": 6,
   "metadata": {
    "scrolled": false
   },
   "outputs": [
    {
     "name": "stdout",
     "output_type": "stream",
     "text": [
      "Connected to: Keithley Instruments Inc. 2614B (serial:4321834, firmware:3.2.2) in 0.09s\n"
     ]
    }
   ],
   "source": [
    "stationQDAC = initializeQDAC()"
   ]
  },
  {
   "cell_type": "markdown",
   "metadata": {},
   "source": [
    "You can check the output of the QDAC with an oscilloscope. A keithley is also setup if you want to try and measure the output with that. We need to define a measurement instrument to satisfy the 'requirement' of the `scan1D` function."
   ]
  },
  {
   "cell_type": "code",
   "execution_count": 7,
   "metadata": {},
   "outputs": [],
   "source": [
    "keithley = stationQDAC.keithley"
   ]
  },
  {
   "cell_type": "code",
   "execution_count": 8,
   "metadata": {},
   "outputs": [],
   "source": [
    "# Sets up the live plotter\n",
    "mwindows = qtt.gui.live_plotting.setupMeasurementWindows(stationQDAC, create_parameter_widget=False)\n",
    "plotQ = mwindows['plotwindow']"
   ]
  },
  {
   "cell_type": "code",
   "execution_count": 9,
   "metadata": {},
   "outputs": [
    {
     "name": "stdout",
     "output_type": "stream",
     "text": [
      "[<qcodes.instrument.parameter.Parameter: volt at 2476291441160>]\n",
      "scan1D: 0/200: time 0.4\n",
      "scan1D: 29/200: time 2.0\n",
      "scan1D: 57/200: time 3.5\n",
      "scan1D: 86/200: time 5.0\n",
      "scan1D: 115/200: time 6.5\n",
      "scan1D: 143/200: time 8.0\n",
      "scan1D: 172/200: time 9.6\n"
     ]
    }
   ],
   "source": [
    "scanjob = scanjob_t({'sweepdata': dict({'param': 'S0', 'start': 0.1, 'end': 0.5, 'step': .002, \n",
    "                                        'wait_time': 3e-3}), 'minstrument': [keithley.smua.volt]})\n",
    "data1d = qtt.measurements.scans.scan1D(stationQDAC, scanjob, location=None, verbose=1)"
   ]
  },
  {
   "cell_type": "markdown",
   "metadata": {},
   "source": [
    "The QDAC should have ramped from 10 mV to 50 mV"
   ]
  },
  {
   "cell_type": "markdown",
   "metadata": {},
   "source": [
    "## Example 2: Alazar"
   ]
  },
  {
   "cell_type": "markdown",
   "metadata": {},
   "source": [
    "In `qtt` FPGAs such as the Alazar ATS have a specific class `FPGA_ave` found in `qtt.instrument_drivers` (https://qtt.readthedocs.io/en/latest/_modules/qtt/instrument_drivers/FPGA_ave.html#FPGA_ave.get_idn). To use the FPGA with `qtt` you must connect to it differently, normally one would use:\n",
    "\n",
    "`alazar = ATSdriver.AlazarTech_ATS9360(name='Alazar')`\n",
    "\n",
    "with `qtt` I used:\n",
    "\n",
    "`fpga = FPGA_ave(name='fpga', address='ASRL1::INSTR')`\n",
    "\n",
    "To provide the same functionality as the Alazar driver, I added several methods to this `FPGA_ave`.\n",
    "These methods setup the Alazar, the controller and channel. \n",
    "\n",
    "In the method `readFPGA` I replaced the:\n",
    "\n",
    "`DataRead_ch1 = self.get_ch1_data(checkdone=False, buf=True)`\n",
    "\n",
    "with \n",
    "\n",
    "`DataRead_ch1 = self.channel.data.get()`\n",
    "\n",
    "The wrapper I have written only works for single channel, but using the example code in the qdev wrappers, it could be setup for two channels (https://github.com/qdev-dk/qdev-wrappers/blob/master/examples/Alazar/Qcodes%20example%20with%20Alazar%20ATS9360.ipynb)"
   ]
  },
  {
   "cell_type": "code",
   "execution_count": 10,
   "metadata": {},
   "outputs": [],
   "source": [
    "def initializeFPGA():\n",
    "\n",
    "    logging.info('my station: initialize')\n",
    "    \n",
    "    # Connect to HP33210A AWG\n",
    "    awg = WaveformGenerator_33XXX(name='awg', address='TCPIP0::192.168.15.102::inst0::INSTR')\n",
    "    \n",
    "    # Create the ATS9360 instrument\n",
    "    fpga = FPGA_ave(name='fpga', address='ASRL1::INSTR')\n",
    "    \n",
    "    logging.info('my station: all drivers have been loaded')\n",
    "\n",
    "    #Creating the experimental station\n",
    "    station = qcodes.Station(awg, fpga)\n",
    "\n",
    "    logging.info('my station: initialization done')   \n",
    "    return station"
   ]
  },
  {
   "cell_type": "code",
   "execution_count": 11,
   "metadata": {},
   "outputs": [
    {
     "name": "stdout",
     "output_type": "stream",
     "text": [
      "Connected to: Agilent Technologies 33210A (serial:MY48000757, firmware:1.02-1.02-26-2) in 0.02s\n",
      "FPGA internal clock is 50MHz, dividing it by 50, yields samp. freq. is 1000000 Hz\n"
     ]
    }
   ],
   "source": [
    "station = initializeFPGA()\n",
    "\n",
    "fpga = station.fpga"
   ]
  },
  {
   "cell_type": "code",
   "execution_count": 12,
   "metadata": {},
   "outputs": [],
   "source": [
    "station.awg.ch1.output('ON')\n",
    "station.awg.ch1.function_type('RAMP')\n",
    "\n",
    "period = 50.0e-6\n",
    "station.awg.ch1.frequency(1/period)"
   ]
  },
  {
   "cell_type": "code",
   "execution_count": 13,
   "metadata": {},
   "outputs": [],
   "source": [
    "fpga.alazar_setup()"
   ]
  },
  {
   "cell_type": "code",
   "execution_count": 14,
   "metadata": {},
   "outputs": [],
   "source": [
    "fpga.setup_controller()"
   ]
  },
  {
   "cell_type": "code",
   "execution_count": 15,
   "metadata": {},
   "outputs": [],
   "source": [
    "fpga.set_int_delay(2e-5)\n",
    "fpga.set_int_time(2e-6)"
   ]
  },
  {
   "cell_type": "code",
   "execution_count": 16,
   "metadata": {},
   "outputs": [],
   "source": [
    "fpga.setup_channel(channel='A', num_averages=1)"
   ]
  },
  {
   "cell_type": "code",
   "execution_count": 17,
   "metadata": {},
   "outputs": [
    {
     "data": {
      "text/plain": [
       "[<matplotlib.lines.Line2D at 0x2408e9b3da0>]"
      ]
     },
     "execution_count": 17,
     "metadata": {},
     "output_type": "execute_result"
    },
    {
     "data": {
      "image/png": "[encoded data removed]",
      "text/plain": [
       "<matplotlib.figure.Figure at 0x2408e898b38>"
      ]
     },
     "metadata": {},
     "output_type": "display_data"
    }
   ],
   "source": [
    "totalpoints, DataRead_ch1, DataRead_ch2 = fpga.readFPGA(ReadDevice=['FPGA_ch1'])\n",
    "\n",
    "plt.plot(DataRead_ch1)"
   ]
  }
 ],
 "metadata": {
  "kernelspec": {
   "display_name": "Python 3",
   "language": "python",
   "name": "python3"
  },
  "language_info": {
   "codemirror_mode": {
    "name": "ipython",
    "version": 3
   },
   "file_extension": ".py",
   "mimetype": "text/x-python",
   "name": "python",
   "nbconvert_exporter": "python",
   "pygments_lexer": "ipython3",
   "version": "3.6.6"
  }
 },
 "nbformat": 4,
 "nbformat_minor": 2
}
